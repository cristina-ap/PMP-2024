{
  "nbformat": 4,
  "nbformat_minor": 0,
  "metadata": {
    "colab": {
      "provenance": []
    },
    "kernelspec": {
      "name": "python3",
      "display_name": "Python 3"
    },
    "language_info": {
      "name": "python"
    }
  },
  "cells": [
    {
      "cell_type": "code",
      "execution_count": 1,
      "metadata": {
        "id": "r_XG282rxkJx"
      },
      "outputs": [],
      "source": [
        "import pymc as pm\n",
        "import numpy as np\n",
        "import pandas as pd\n",
        "import matplotlib.pyplot as plt\n",
        "import arviz as az\n",
        "import seaborn as sns"
      ]
    },
    {
      "cell_type": "code",
      "source": [
        "data = pd.read_csv(\"date_alegeri_turul2.csv\")\n",
        "\n",
        "varsta_mean, varsta_std = data['Varsta'].mean(), data['Varsta'].std()\n",
        "venit_mean, venit_std = data['Venit'].mean(), data['Venit'].std()\n",
        "\n",
        "data['Varsta'] = (data['Varsta'] - data['Varsta'].mean()) / data['Varsta'].std()\n",
        "data['Venit'] = (data['Venit'] - data['Venit'].mean()) / data['Venit'].std()\n",
        "\n",
        "x_n = ['Varsta', 'Sex', 'Educatie', 'Venit']\n",
        "x_1 = data[x_n].values\n",
        "y_data = np.array(data['Vot'])\n",
        "\n",
        "with pm.Model() as model1:\n",
        "  beta_0 = pm.Normal('beta_0', mu=0, sigma=10)\n",
        "  beta = pm.Normal('beta', mu=0, sigma=10, shape=len(x_n))\n",
        "  mu = beta_0 + pm.math.dot(x_1, beta)\n",
        "\n",
        "  theta = pm.Deterministic('theta', pm.math.sigmoid(mu))\n",
        "  y1 = pm.Bernoulli('y1', p=theta, observed=y_data)\n",
        "\n",
        "  idata_1 = pm.sample(2000, return_inferencedata=True)\n",
        "\n",
        "pm.plot_trace(idata_1)\n",
        "plt.show()\n",
        "az.plot_forest(idata_1, var_names=[\"beta\"], combined=True, hdi_prob=0.94)\n",
        "plt.title(\"Intervale de credibilitate pentru coeficienți (94% HDI)\")\n",
        "plt.show()\n"
      ],
      "metadata": {
        "id": "lgXVwWlEy3EC"
      },
      "execution_count": null,
      "outputs": []
    },
    {
      "cell_type": "markdown",
      "source": [
        "Intrucat valorile beta[2] si beta[3] corespunzatoare atributelor nivel de educatie si venit lunar au coeficientii cei mai mari, acestea influenteaza cel mai mult rezultatul"
      ],
      "metadata": {
        "id": "DOhFauhg4Sf7"
      }
    },
    {
      "cell_type": "code",
      "source": [
        "\n",
        "x_n_2 = ['Educatie', 'Venit']\n",
        "x_2 = data[x_n_2].values\n",
        "\n",
        "\n",
        "with pm.Model() as model2:\n",
        "  beta_0_2 = pm.Normal('beta_0', mu=0, sigma=10)\n",
        "  beta_2 = pm.Normal('beta', mu=0, sigma=10, shape=len(x_n_2))\n",
        "  mu = beta_0_2 + pm.math.dot(x_2, beta_2)\n",
        "\n",
        "  theta = pm.Deterministic('theta', pm.math.sigmoid(mu))\n",
        "  bd = pm.Deterministic('bd', -beta_0_2/beta[1] - beta_2[0]/beta_2[1] * x_2[:,0])\n",
        "\n",
        "  y2 = pm.Bernoulli('y2', p=theta, observed=y_data)\n",
        "  idata_2 = pm.sample(2000, return_inferencedata=True)\n",
        "\n",
        "posterior_2 = idata_2.posterior.stack(samples=(\"chain\", \"draw\"))\n",
        "theta = posterior_2['theta'].mean(\"samples\")\n",
        "\n",
        "idx = np.argsort(x_2[:,0])\n",
        "bd = idata_2.posterior['bd'].mean((\"chain\", \"draw\"))[idx]\n",
        "plt.vlines(posterior_2['bd'].mean(), 0, 1, color='pink', label=\"frontiera de decizie medie\")\n",
        "\n",
        "bd_hpd = az.hdi(posterior_2['bd'].values)\n",
        "plt.fill_betweenx([0, 1], bd_hpd[0], bd_hpd[1], color='purple', alpha=0.5, label=\"HDI frontiera de decizie\")\n"
      ],
      "metadata": {
        "id": "roXH_B8349rf"
      },
      "execution_count": null,
      "outputs": []
    },
    {
      "cell_type": "code",
      "source": [
        "pm.compute_log_likelihood(idata_1,model=model1)\n",
        "pm.compute_log_likelihood(idata_2,model=model2)\n",
        "cmp_df = az.compare({'model1':idata_1, 'model2':idata_2},method='BB-pseudo-BMA', ic=\"waic\", scale=\"deviance\")\n",
        "\n",
        "cmp_df"
      ],
      "metadata": {
        "id": "nDQh4giG9fm6"
      },
      "execution_count": null,
      "outputs": []
    },
    {
      "cell_type": "code",
      "source": [
        "irisi = pd.read_csv(\"iris.csv\")\n"
      ],
      "metadata": {
        "id": "4TPWLadq_0b-"
      },
      "execution_count": null,
      "outputs": []
    }
  ]
}