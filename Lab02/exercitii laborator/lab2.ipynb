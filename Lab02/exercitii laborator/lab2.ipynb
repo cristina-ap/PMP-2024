{
 "cells": [
  {
   "cell_type": "code",
   "execution_count": 8,
   "metadata": {},
   "outputs": [
    {
     "data": {
      "text/plain": [
       "0.161"
      ]
     },
     "execution_count": 8,
     "metadata": {},
     "output_type": "execute_result"
    }
   ],
   "source": [
    "import numpy as np\n",
    "import random\n",
    "\n",
    "prime = [2, 3, 5, 7]\n",
    "\n",
    "urna=[3, 4, 2]\n",
    "culoare=[\"rosu\", \"albastru\", \"negru\"]\n",
    "\n",
    "def aruncare(nrAruncari):\n",
    "    bilaRosie=0\n",
    "    for i in range (0, nrAruncari):\n",
    "        zar = random.randint(1, 6)\n",
    "        # print(zar)\n",
    "        if zar in prime:\n",
    "            urna[2]=urna[2]+1\n",
    "            # print(\"S-a adaugat negru\")\n",
    "        elif zar == 6:\n",
    "            urna[0] = urna[0]+1\n",
    "            # print(\"S-a adaugat rosu\")\n",
    "        else:\n",
    "            urna[1] = urna[1]+1\n",
    "            # print(\"S-a adaugat albastru\")\n",
    "        prosu=urna[0]/10\n",
    "        palb=urna[1]/10\n",
    "        pnegru=urna[2]/10\n",
    "        extragere=np.random.choice([0,1,2], p=[prosu,palb,pnegru]) \n",
    "        urna[extragere] = urna[extragere]-1\n",
    "        if extragere == 0:\n",
    "            bilaRosie= bilaRosie+1\n",
    "        # print(\"S-a extras\",culoare[extragere])\n",
    "    return bilaRosie/nrAruncari\n",
    "aruncare(1000)\n",
    "\n"
   ]
  },
  {
   "cell_type": "code",
   "execution_count": null,
   "metadata": {},
   "outputs": [],
   "source": []
  }
 ],
 "metadata": {
  "kernelspec": {
   "display_name": "Python 3",
   "language": "python",
   "name": "python3"
  },
  "language_info": {
   "codemirror_mode": {
    "name": "ipython",
    "version": 3
   },
   "file_extension": ".py",
   "mimetype": "text/x-python",
   "name": "python",
   "nbconvert_exporter": "python",
   "pygments_lexer": "ipython3",
   "version": "3.12.6"
  }
 },
 "nbformat": 4,
 "nbformat_minor": 2
}
